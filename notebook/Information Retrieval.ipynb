{
 "cells": [
  {
   "cell_type": "code",
   "execution_count": 4,
   "id": "a951002b",
   "metadata": {},
   "outputs": [],
   "source": [
    "import sys\n",
    "sys.path.append('../scdv')"
   ]
  },
  {
   "cell_type": "code",
   "execution_count": 5,
   "id": "1ab85e15",
   "metadata": {},
   "outputs": [],
   "source": [
    "import nltk\n",
    "from pathlib import Path\n",
    "from tqdm.auto import tqdm\n",
    "import numpy as np\n",
    "from nltk import word_tokenize\n",
    "from nltk.lm import MLE\n",
    "from nltk.lm.preprocessing import padded_everygram_pipeline"
   ]
  },
  {
   "cell_type": "code",
   "execution_count": 6,
   "id": "698fe460",
   "metadata": {},
   "outputs": [],
   "source": [
    "from scdv import SCDV\n",
    "from baseline import BaselineEmbedding"
   ]
  },
  {
   "cell_type": "code",
   "execution_count": 13,
   "id": "05d40cab",
   "metadata": {},
   "outputs": [],
   "source": [
    "scdv_model = SCDV.load(\"../saved_models/bbc_word2vec_sg_5_100.pkl\")\n",
    "baseline_model = SCDV.load(\"../saved_models/baseline_bbc_word2vec_sg_100.pkl\")"
   ]
  },
  {
   "cell_type": "code",
   "execution_count": 14,
   "id": "a9ef24b2",
   "metadata": {},
   "outputs": [
    {
     "data": {
      "application/vnd.jupyter.widget-view+json": {
       "model_id": "a4e65e8287f94404ac726cabc1e18f0c",
       "version_major": 2,
       "version_minor": 0
      },
      "text/plain": [
       "  0%|          | 0/2225 [00:00<?, ?it/s]"
      ]
     },
     "metadata": {},
     "output_type": "display_data"
    },
    {
     "data": {
      "application/vnd.jupyter.widget-view+json": {
       "model_id": "b4dc65e8e84a4445a30574e3ad0f3448",
       "version_major": 2,
       "version_minor": 0
      },
      "text/plain": [
       "  0%|          | 0/2225 [00:00<?, ?it/s]"
      ]
     },
     "metadata": {},
     "output_type": "display_data"
    }
   ],
   "source": [
    "data_path = \"../data/bbc/all/\"\n",
    "\n",
    "documents = list()\n",
    "p = Path(data_path)\n",
    "files = list(p.glob(\"**/*.txt\"))\n",
    "for file in tqdm(files):\n",
    "    try:\n",
    "        with open(file, \"r\", encoding='utf8') as f:\n",
    "            text = f.read().strip()\n",
    "    except:\n",
    "        pass\n",
    "    documents.append(text)\n",
    "    \n",
    "total_documents = len(documents)\n",
    "document_words = [word_tokenize(document) for document in tqdm(documents)]"
   ]
  },
  {
   "cell_type": "code",
   "execution_count": 15,
   "id": "b87ad505",
   "metadata": {},
   "outputs": [],
   "source": [
    "def get_qd_score(model, query_words, document_idx, query_unigram_probabilities, document_unigram_probabilities, document_vectors):\n",
    "    _sum = 0\n",
    "    for word in query_words:\n",
    "        _sum += query_unigram_probabilities[word] * get_probability_wd(word, document_idx, document_unigram_probabilities, model, document_vectors)\n",
    "    return _sum\n",
    "\n",
    "def get_scores(model, query_vector, document_vectors, query_words, document_idx, query_unigram_probabilities, document_unigram_probabilities, lambda_=0.5):\n",
    "    document_vector = document_vectors[document_idx]\n",
    "    similarity = model.similarity(query_vector, document_vector)\n",
    "    score_qd = get_qd_score(model, query_words, document_idx, query_unigram_probabilities, document_unigram_probabilities, document_vectors)\n",
    "    score_pv = (1 - lambda_) * score_qd + lambda_ * similarity\n",
    "    return score_pv, score_qd\n",
    "\n",
    "def get_probability_pv(word, document_idx, model, document_vectors):\n",
    "    word_vector = model.get_word_vector(word)\n",
    "    document_vector = document_vectors[document_idx]\n",
    "    similarity = model.similarity(word_vector, document_vector)\n",
    "    similarity_exponent = np.exp(similarity)\n",
    "    _sum = 0\n",
    "    for word in document_words[document_idx]: # model.vocabulary: # is this model vocabulary?\n",
    "        _sum += np.exp(model.similarity(document_vector, model.get_word_vector(word)))\n",
    "    probability_pv = similarity_exponent / _sum\n",
    "    return probability_pv\n",
    "\n",
    "def get_probability_wd(word, document_idx, document_unigram_probabilities, model, document_vectors, lambda_=0.5):\n",
    "    probability_lm = document_unigram_probabilities[document_idx].get(word, 0)\n",
    "    return (1 - lambda_) * probability_lm + lambda_ * get_probability_pv(word, document_idx, model, document_vectors)\n",
    "\n",
    "def make_sparse_document_vectors(document_vectors, p=0.5):\n",
    "    ndim = document_vectors.shape[1]\n",
    "    min_ndim = list()\n",
    "    max_mdin = list()\n",
    "    for i in range(ndim):\n",
    "        min_ndim.append(np.min(document_vectors[:, i]))\n",
    "        max_mdin.append(np.max(document_vectors[:, i]))\n",
    "    a_min = np.mean(min_ndim)\n",
    "    a_max = np.mean(max_mdin)\n",
    "    t = (np.abs(a_min) + np.abs(a_max)) / 2\n",
    "    pt = p * t\n",
    "    document_vectors[np.abs(document_vectors) < pt] = 0\n",
    "    return document_vectors"
   ]
  },
  {
   "cell_type": "code",
   "execution_count": 16,
   "id": "80e68d5d",
   "metadata": {},
   "outputs": [
    {
     "data": {
      "application/vnd.jupyter.widget-view+json": {
       "model_id": "c47a8edb45224a1583a7ad263d7fd08a",
       "version_major": 2,
       "version_minor": 0
      },
      "text/plain": [
       "  0%|          | 0/2225 [00:00<?, ?it/s]"
      ]
     },
     "metadata": {},
     "output_type": "display_data"
    },
    {
     "name": "stderr",
     "output_type": "stream",
     "text": [
      "/home/pes1ug19cs592/SCDV/notebook/../scdv/scdv.py:107: RuntimeWarning: invalid value encountered in true_divide\n",
      "  vector = vector / np.linalg.norm(vector)\n"
     ]
    },
    {
     "data": {
      "application/vnd.jupyter.widget-view+json": {
       "model_id": "fdf24be4a6124a849b8e9cc825524a43",
       "version_major": 2,
       "version_minor": 0
      },
      "text/plain": [
       "  0%|          | 0/2225 [00:00<?, ?it/s]"
      ]
     },
     "metadata": {},
     "output_type": "display_data"
    }
   ],
   "source": [
    "scdv_document_vectors = [scdv_model.get_document_vector(word_tokenize(document)) for document in tqdm(documents)]\n",
    "scdv_document_vectors = np.asarray(scdv_document_vectors)\n",
    "scdv_document_vectors = make_sparse_document_vectors(scdv_document_vectors)\n",
    "\n",
    "baseline_document_vectors = [baseline_model.get_document_vector(word_tokenize(document)) for document in tqdm(documents)]\n",
    "baseline_document_vectors = np.asarray(baseline_document_vectors)"
   ]
  },
  {
   "cell_type": "code",
   "execution_count": 17,
   "id": "e5e2915e",
   "metadata": {},
   "outputs": [
    {
     "data": {
      "application/vnd.jupyter.widget-view+json": {
       "model_id": "324435be94b0401eb077cba5236adfce",
       "version_major": 2,
       "version_minor": 0
      },
      "text/plain": [
       "  0%|          | 0/2225 [00:00<?, ?it/s]"
      ]
     },
     "metadata": {},
     "output_type": "display_data"
    }
   ],
   "source": [
    "document_lm = list()\n",
    "document_unigram_probabilities = list()\n",
    "for document in tqdm(document_words):\n",
    "    unigram_probabilities = dict()\n",
    "    train, vocab = padded_everygram_pipeline(3, [document])\n",
    "    lm = MLE(3)\n",
    "    lm.fit(train, vocab)\n",
    "    document_lm.append(lm)\n",
    "    for word in document:\n",
    "        unigram_probabilities[word] = lm.score(word)\n",
    "    document_unigram_probabilities.append(unigram_probabilities)"
   ]
  },
  {
   "cell_type": "code",
   "execution_count": 18,
   "id": "ba8225c5",
   "metadata": {},
   "outputs": [],
   "source": [
    "def get_query_results(query):\n",
    "    query_words = word_tokenize(query)\n",
    "    query_unigram_probabilities = dict()\n",
    "    train, vocab = padded_everygram_pipeline(1, [query])\n",
    "    lm = MLE(1)\n",
    "    lm.fit(train, vocab)\n",
    "    for word in query_words:\n",
    "        query_unigram_probabilities[word] = lm.score(word)\n",
    "        \n",
    "    query_vector_scdv = np.asarray(scdv_model.get_document_vector(query_words))\n",
    "    query_vector_baseline = np.asarray(baseline_model.get_document_vector(query_words))\n",
    "    \n",
    "    scores_scdv = list()\n",
    "    scores_baseline = list()\n",
    "    \n",
    "    for document_idx in tqdm(range(total_documents)):\n",
    "        score_lm = document_lm[document_idx].score(query_words[-1], query_words[:-1])\n",
    "        \n",
    "        score_pv, score_qd = get_scores(scdv_model, query_vector_scdv, scdv_document_vectors, query_words, document_idx, query_unigram_probabilities, document_unigram_probabilities)\n",
    "        scores_scdv.append((score_pv, score_qd, score_lm, document_idx))\n",
    "        \n",
    "        score_pv, score_qd = get_scores(baseline_model, query_vector_baseline, baseline_document_vectors, query_words, document_idx, query_unigram_probabilities, document_unigram_probabilities)\n",
    "        scores_baseline.append((score_pv, score_qd, score_lm, document_idx))\n",
    "        \n",
    "    scores_scdv.sort(key=lambda x: x[0], reverse=True)\n",
    "    scores_baseline.sort(key=lambda x: x[0], reverse=True)\n",
    "    \n",
    "    scores_scdv = scores_scdv[:3]\n",
    "    scores_baseline = scores_baseline[:3]\n",
    "    \n",
    "    for score in scores_scdv:\n",
    "        print(f\"Similarity: {score[0]}\\n\\nDocument: {documents[score[-1]]}\\n\\n\")\n",
    "        \n",
    "    print(\"-------------------------------------------------------------------\")\n",
    "    \n",
    "    for score in scores_baseline:\n",
    "        print(f\"Similarity: {score[0]}\\n\\nDocument: {documents[score[-1]]}\\n\\n\")"
   ]
  },
  {
   "cell_type": "code",
   "execution_count": 19,
   "id": "fc7ffb96",
   "metadata": {
    "scrolled": false
   },
   "outputs": [
    {
     "data": {
      "application/vnd.jupyter.widget-view+json": {
       "model_id": "857c3ba1f5184e98a1cacfe0b7ef4864",
       "version_major": 2,
       "version_minor": 0
      },
      "text/plain": [
       "  0%|          | 0/2225 [00:00<?, ?it/s]"
      ]
     },
     "metadata": {},
     "output_type": "display_data"
    },
    {
     "name": "stdout",
     "output_type": "stream",
     "text": [
      "Similarity: 0.24556523949082343\n",
      "\n",
      "Document: Latin America sees strong growth\n",
      "\n",
      "Latin America's economy grew by 5.5% in 2004, its best performance since 1980, while exports registered their best performance in two decades.\n",
      "\n",
      "The United Nations' Economic Commission for Latin America and the Caribbean said the region grew by 5.5% this year. The Inter-American Development Bank (IADB) said regional exports reached $445.1bn (£227bn;331bn euros) in 2004. Doubts about the strength of the US recovery and overheating of the Chinese economy do however pose risks for 2005. Both organisations also warned that high oil prices raise the risk of either inflation or recession.\n",
      "\n",
      "Nevertheless, the Economic Commission for Latin America and the Caribbean (ECLAC) still forecasts growth of 4% for 2005. Strong recovery in some countries, such as Venezuela and Uruguay, boosted the overall performance of the region. ECLAC also said that the six largest Latin American economies (Argentina, Brazil, Chile, Colombia, Mexico and Venezuela) grew by more than 3% for only the second time in 20 years. Chinese and US economic strength helped boost exports, as did strong demand for agricultural and mining products. In fact, Latin American exports to China grew 34%, to $14bn. Higher oil prices also helped boost exports, as Mexico and Venezuela are important oil exporters. Regional blocs as well as free trade agreements with the US contributed to the region's strong performance, the IADB said.\n",
      "\n",
      "\n",
      "Similarity: 0.218915684644259\n",
      "\n",
      "Document: US trade gap hits record in 2004\n",
      "\n",
      "The gap between US exports and imports hit an all-time high of $671.7bn (£484bn) in 2004, latest figures show.\n",
      "\n",
      "The Commerce Department said the trade deficit for all of last year was 24.4% above the previous record - 2003's imbalance of $496.5bn. The deficit with China, up 30.5% at $162bn, was the largest ever recorded with a single country. However, on a monthly basis the US trade gap narrowed by 4.9% in December to £56.4bn. The US consumer's appetite for all things from oil to imported cars, and even wine and cheese, reached record levels last year and the figures are likely to spark fresh criticism of President Bush's economic policies.\n",
      "\n",
      "Democrats claim the administration has not done enough to clamp down on unfair foreign trade practices. For example, they believe China's currency policy - which US manufacturers claim has undervalued the yuan by as much as 40% - has given China's rapidly expanding economy an unfair advantage against US competitors.\n",
      "\n",
      "Meanwhile, the Bush administration argues that the US deficit reflects the fact the America is growing at faster rate than the rest of the world, spurring on more demand for imported goods. Some economists say this may allow an upward revision of US economic growth in the fourth quarter. But others point out that the deficit has reached such astronomical proportions that foreigners many choose not to hold as many dollar-denominated assets, which may in turn harm growth. For all of 2004, US exports rose 12.3% to $1.15 trillion, but imports rose even faster by 16.3% to a new record of $1.76 trillion. Foreign oil exports surged by 35.7% to a record $180.7bn, reflecting the rally in global oil prices and increasing domestic demand. Imports were not affected by the dollar's weakness last year. \"We expect the deficit to continue to widen in 2005 even if the dollar gets back to its downward trend,\" said economist Marie-Pierre Ripert at IXIS.\n",
      "\n",
      "\n",
      "Similarity: 0.21644334195417608\n",
      "\n",
      "Document: Venezuela and China sign oil deal\n",
      "\n",
      "Venezuelan president Hugo Chavez has offered China wide-ranging access to the country's oil reserves.\n",
      "\n",
      "The offer, made as part of a trade deal between the two countries, will allow China to operate oil fields in Venezuela and invest in new refineries. Venezuela has also offered to supply 120,000 barrels of fuel oil a month to China. Venezuela - the world's fifth largest oil exporter - sells about 60% of its output to the United States. Mr Chavez's administration, which has a strained relationship with the US, is trying to diversify sales to reduce its dependence on its largest export market.\n",
      "\n",
      "China's quick-growing economy's need for oil has contributed to record-high oil prices this year, along with political unrest in the Middle East and supply bottlenecks. Oil prices are finishing the year roughly 30% higher than they were in January 2004.\n",
      "\n",
      "In 2004, according to forecasts from the Ministry of Commerce, China's oil imports will be 110m tons, up 21% on the previous year. China has been a net importer of oil since the mid 1990's with more than a third of the oil and gas it consumes coming from abroad. A lack of sufficient domestic production and the need to lessen its dependence on imports from the Middle East has meant that China is looking to invest in other potential markets such as Latin America. Mr Chavez, who is visiting China, said his country would put its many of its oil facilities at the disposal of China. Chinese firms would be allowed to operate 15 mature oil fields in the east of Venezuela, which could produce more than one billion barrels, he confirmed. The two countries will also continue a joint venture agreement to produce stocks of the boiler fuel orimulsion. Mr Chavez has also invited Chinese firms to bid for gas exploration contracts which his government will offer next year in the western Gulf of Venezuela. The two countries also signed a number of other agreements covering other industries including mining.\n",
      "\n",
      "\n",
      "-------------------------------------------------------------------\n",
      "Similarity: 0.28980109095573425\n",
      "\n",
      "Document: Latin America sees strong growth\n",
      "\n",
      "Latin America's economy grew by 5.5% in 2004, its best performance since 1980, while exports registered their best performance in two decades.\n",
      "\n",
      "The United Nations' Economic Commission for Latin America and the Caribbean said the region grew by 5.5% this year. The Inter-American Development Bank (IADB) said regional exports reached $445.1bn (£227bn;331bn euros) in 2004. Doubts about the strength of the US recovery and overheating of the Chinese economy do however pose risks for 2005. Both organisations also warned that high oil prices raise the risk of either inflation or recession.\n",
      "\n",
      "Nevertheless, the Economic Commission for Latin America and the Caribbean (ECLAC) still forecasts growth of 4% for 2005. Strong recovery in some countries, such as Venezuela and Uruguay, boosted the overall performance of the region. ECLAC also said that the six largest Latin American economies (Argentina, Brazil, Chile, Colombia, Mexico and Venezuela) grew by more than 3% for only the second time in 20 years. Chinese and US economic strength helped boost exports, as did strong demand for agricultural and mining products. In fact, Latin American exports to China grew 34%, to $14bn. Higher oil prices also helped boost exports, as Mexico and Venezuela are important oil exporters. Regional blocs as well as free trade agreements with the US contributed to the region's strong performance, the IADB said.\n",
      "\n",
      "\n",
      "Similarity: 0.2805331349372864\n",
      "\n",
      "Document: Diageo to buy US wine firm\n",
      "\n",
      "Diageo, the world's biggest spirits company, has agreed to buy Californian wine company Chalone for $260m (£134m) in an all-cash deal.\n",
      "\n",
      "Although Diageo's best-known brands include Smirnoff vodka and Guinness stout, it already has a US winemaking arm - Diageo Chateau & Estate Wines. Diageo said it expects to get US regulatory approval for the deal during the first quarter of 2005. It said Chalone would be integrated into its existing US wine business.\n",
      "\n",
      "\"The US wine market represents a growth opportunity for Diageo, with favourable demographic and consumption trends,\" said Diageo North America president Ivan Menezes. In July, Diageo, which is listed on the London Stock Exchange, reported an annual turnover of £8.89bn, down from £9.28bn a year earlier. It blamed a weaker dollar for its lower turnover. In the year ending 31 December 2003, Chalone reported revenues of $69.4m.\n",
      "\n",
      "\n",
      "Similarity: 0.2791137397289276\n",
      "\n",
      "Document: Mexican in US send $16bn home\n",
      "\n",
      "Mexican labourers living in the US sent a record $16.6bn (£8.82bn) home last year.\n",
      "\n",
      "The Bank of Mexico said that remittances grew 24% last year and now represent the country's second-biggest source of income after oil. Better records and greater prosperity of Mexican expatriates in the US are the main reasons behind the increase. About 10 million Mexicans live in the US, where there are 16 million citizens of Mexican origin. Remittances now represent more than 2% of the country's GDP, according to the Bank of Mexico's figures. Last year, there were 50.9 million transactions, with an average value of $327 per remittance, the bank said. According to Standard & Poor's, which has recently upgraded Mexico's sovereign debt rating, the rise in remittances helps protect the Mexican economy against a potential fall in the international oil prices.\n",
      "\n",
      "The growth in remittances has sparked fierce competition between banks. Bank of America announced last week that it planned to eliminate transfer fees for some customers. Remittance charges are estimated to have dropped by between 50 and 60%, reports from the US Treasury and the Inter-American Development Bank have said. The Inter-American Development Bank estimates that remittances to Latin America and the Caribbean reached $45bn in 2004.\n",
      "\n",
      "\n"
     ]
    }
   ],
   "source": [
    "get_query_results(\"America\")"
   ]
  },
  {
   "cell_type": "code",
   "execution_count": null,
   "id": "bd6ac321",
   "metadata": {},
   "outputs": [],
   "source": []
  }
 ],
 "metadata": {
  "kernelspec": {
   "display_name": "Python 3 (ipykernel)",
   "language": "python",
   "name": "python3"
  },
  "language_info": {
   "codemirror_mode": {
    "name": "ipython",
    "version": 3
   },
   "file_extension": ".py",
   "mimetype": "text/x-python",
   "name": "python",
   "nbconvert_exporter": "python",
   "pygments_lexer": "ipython3",
   "version": "3.10.4"
  }
 },
 "nbformat": 4,
 "nbformat_minor": 5
}
