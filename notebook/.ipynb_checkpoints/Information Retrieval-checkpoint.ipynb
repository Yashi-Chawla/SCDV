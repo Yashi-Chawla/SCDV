{
 "cells": [
  {
   "cell_type": "code",
   "execution_count": 7,
   "id": "a951002b",
   "metadata": {},
   "outputs": [],
   "source": [
    "import sys\n",
    "sys.path.append('..\\scdv')"
   ]
  },
  {
   "cell_type": "code",
   "execution_count": 36,
   "id": "1ab85e15",
   "metadata": {},
   "outputs": [],
   "source": [
    "import nltk\n",
    "from pathlib import Path\n",
    "from tqdm.auto import tqdm\n",
    "import numpy as np\n",
    "from nltk import word_tokenize\n",
    "from nltk.lm import MLE\n",
    "from nltk.lm.preprocessing import padded_everygram_pipeline"
   ]
  },
  {
   "cell_type": "code",
   "execution_count": 8,
   "id": "698fe460",
   "metadata": {},
   "outputs": [],
   "source": [
    "from scdv import SCDV\n",
    "from baseline import BaselineEmbedding"
   ]
  },
  {
   "cell_type": "code",
   "execution_count": 14,
   "id": "05d40cab",
   "metadata": {},
   "outputs": [],
   "source": [
    "scdv_model = SCDV.load(\"../saved_models/allthenews_word2vec_sg_50_100.pkl\")\n",
    "baseline_model = SCDV.load(\"../saved_models/baseline_bbc_word2vec_sg_100.pkl\")"
   ]
  },
  {
   "cell_type": "code",
   "execution_count": 43,
   "id": "a9ef24b2",
   "metadata": {},
   "outputs": [
    {
     "data": {
      "application/vnd.jupyter.widget-view+json": {
       "model_id": "fa685eab3b504f86bf21aa635e7dcc11",
       "version_major": 2,
       "version_minor": 0
      },
      "text/plain": [
       "  0%|          | 0/2225 [00:00<?, ?it/s]"
      ]
     },
     "metadata": {},
     "output_type": "display_data"
    },
    {
     "data": {
      "application/vnd.jupyter.widget-view+json": {
       "model_id": "6b825e44800f40ea98a09e4ef18659ac",
       "version_major": 2,
       "version_minor": 0
      },
      "text/plain": [
       "  0%|          | 0/2225 [00:00<?, ?it/s]"
      ]
     },
     "metadata": {},
     "output_type": "display_data"
    }
   ],
   "source": [
    "data_path = \"../data/bbc/all/\"\n",
    "\n",
    "documents = list()\n",
    "p = Path(data_path)\n",
    "files = list(p.glob(\"**/*.txt\"))\n",
    "for file in tqdm(files):\n",
    "    try:\n",
    "        with open(file, \"r\", encoding='utf8') as f:\n",
    "            text = f.read().strip()\n",
    "    except:\n",
    "        pass\n",
    "    documents.append(text)\n",
    "    \n",
    "total_documents = len(documents)\n",
    "document_words = [word_tokenize(document) for document in tqdm(documents)]"
   ]
  },
  {
   "cell_type": "code",
   "execution_count": 44,
   "id": "b87ad505",
   "metadata": {},
   "outputs": [],
   "source": [
    "def get_qd_score(model, query_words, document_idx, query_unigram_probabilities, document_unigram_probabilities, document_vectors):\n",
    "    _sum = 0\n",
    "    for word in query_words:\n",
    "        _sum += query_unigram_probabilities[word] * get_probability_wd(word, document_idx, document_unigram_probabilities, model, document_vectors)\n",
    "    return _sum\n",
    "\n",
    "def get_scores(model, query_vector, document_vectors, query_words, document_idx, query_unigram_probabilities, document_unigram_probabilities, lambda_=0.5):\n",
    "    document_vector = document_vectors[document_idx]\n",
    "    similarity = model.similarity(query_vector, document_vector)\n",
    "    score_qd = get_qd_score(model, query_words, document_idx, query_unigram_probabilities, document_unigram_probabilities, document_vectors)\n",
    "    score_pv = (1 - lambda_) * score_qd + lambda_ * similarity\n",
    "    return score_pv, score_qd\n",
    "\n",
    "def get_probability_pv(word, document_idx, model, document_vectors):\n",
    "    word_vector = model.get_word_vector(word)\n",
    "    document_vector = document_vectors[document_idx]\n",
    "    similarity = model.similarity(word_vector, document_vector)\n",
    "    similarity_exponent = np.exp(similarity)\n",
    "    _sum = 0\n",
    "    for word in document_words[document_idx]: # model.vocabulary: # is this model vocabulary?\n",
    "        _sum += np.exp(model.similarity(document_vector, model.get_word_vector(word)))\n",
    "    probability_pv = similarity_exponent / _sum\n",
    "    return probability_pv\n",
    "\n",
    "def get_probability_wd(word, document_idx, document_unigram_probabilities, model, document_vectors, lambda_=0.5):\n",
    "    probability_lm = document_unigram_probabilities[document_idx].get(word, 0)\n",
    "    return (1 - lambda_) * probability_lm + lambda_ * get_probability_pv(word, document_idx, model, document_vectors)\n",
    "\n",
    "def make_sparse_document_vectors(document_vectors, p=0.5):\n",
    "    ndim = document_vectors.shape[1]\n",
    "    min_ndim = list()\n",
    "    max_mdin = list()\n",
    "    for i in range(ndim):\n",
    "        min_ndim.append(np.min(document_vectors[:, i]))\n",
    "        max_mdin.append(np.max(document_vectors[:, i]))\n",
    "    a_min = np.mean(min_ndim)\n",
    "    a_max = np.mean(max_mdin)\n",
    "    t = (np.abs(a_min) + np.abs(a_max)) / 2\n",
    "    pt = p * t\n",
    "    document_vectors[np.abs(document_vectors) < pt] = 0\n",
    "    return document_vectors"
   ]
  },
  {
   "cell_type": "code",
   "execution_count": 34,
   "id": "80e68d5d",
   "metadata": {},
   "outputs": [
    {
     "data": {
      "application/vnd.jupyter.widget-view+json": {
       "model_id": "00fe8930e1c440cc90065ef9c74ebc4e",
       "version_major": 2,
       "version_minor": 0
      },
      "text/plain": [
       "  0%|          | 0/2225 [00:00<?, ?it/s]"
      ]
     },
     "metadata": {},
     "output_type": "display_data"
    },
    {
     "data": {
      "application/vnd.jupyter.widget-view+json": {
       "model_id": "ebc107caffc8452dbc03acb2fdf66559",
       "version_major": 2,
       "version_minor": 0
      },
      "text/plain": [
       "  0%|          | 0/2225 [00:00<?, ?it/s]"
      ]
     },
     "metadata": {},
     "output_type": "display_data"
    }
   ],
   "source": [
    "scdv_document_vectors = [scdv_model.get_document_vector(word_tokenize(document)) for document in tqdm(documents)]\n",
    "scdv_document_vectors = np.asarray(scdv_document_vectors)\n",
    "scdv_document_vectors = make_sparse_document_vectors(scdv_document_vectors)\n",
    "\n",
    "baseline_document_vectors = [baseline_model.get_document_vector(word_tokenize(document)) for document in tqdm(documents)]\n",
    "baseline_document_vectors = np.asarray(baseline_document_vectors)"
   ]
  },
  {
   "cell_type": "code",
   "execution_count": 39,
   "id": "e5e2915e",
   "metadata": {},
   "outputs": [
    {
     "data": {
      "application/vnd.jupyter.widget-view+json": {
       "model_id": "7240aaefb80d4fae8d181285ca831df2",
       "version_major": 2,
       "version_minor": 0
      },
      "text/plain": [
       "  0%|          | 0/2225 [00:00<?, ?it/s]"
      ]
     },
     "metadata": {},
     "output_type": "display_data"
    }
   ],
   "source": [
    "document_lm = list()\n",
    "document_unigram_probabilities = list()\n",
    "for document in tqdm(document_words):\n",
    "    unigram_probabilities = dict()\n",
    "    train, vocab = padded_everygram_pipeline(3, [document])\n",
    "    lm = MLE(3)\n",
    "    lm.fit(train, vocab)\n",
    "    document_lm.append(lm)\n",
    "    for word in document:\n",
    "        unigram_probabilities[word] = lm.score(word)\n",
    "    document_unigram_probabilities.append(unigram_probabilities)"
   ]
  },
  {
   "cell_type": "code",
   "execution_count": 58,
   "id": "ba8225c5",
   "metadata": {},
   "outputs": [],
   "source": [
    "def get_query_results(query):\n",
    "    query_words = word_tokenize(query)\n",
    "    query_unigram_probabilities = dict()\n",
    "    train, vocab = padded_everygram_pipeline(1, [query])\n",
    "    lm = MLE(1)\n",
    "    lm.fit(train, vocab)\n",
    "    for word in query_words:\n",
    "        query_unigram_probabilities[word] = lm.score(word)\n",
    "        \n",
    "    query_vector_scdv = np.asarray(scdv_model.get_document_vector(query_words))\n",
    "    query_vector_baseline = np.asarray(baseline_model.get_document_vector(query_words))\n",
    "    \n",
    "    scores_scdv = list()\n",
    "    scores_baseline = list()\n",
    "    \n",
    "    for document_idx in tqdm(range(total_documents)):\n",
    "        score_lm = document_lm[document_idx].score(query_words[-1], query_words[:-1])\n",
    "        \n",
    "        score_pv, score_qd = get_scores(scdv_model, query_vector_scdv, scdv_document_vectors, query_words, document_idx, query_unigram_probabilities, document_unigram_probabilities)\n",
    "        scores_scdv.append((score_pv, score_qd, score_lm, document_idx))\n",
    "        \n",
    "        score_pv, score_qd = get_scores(baseline_model, query_vector_baseline, baseline_document_vectors, query_words, document_idx, query_unigram_probabilities, document_unigram_probabilities)\n",
    "        scores_baseline.append((score_pv, score_qd, score_lm, document_idx))\n",
    "        \n",
    "    scores_scdv.sort(key=lambda x: x[0], reverse=True)\n",
    "    scores_baseline.sort(key=lambda x: x[0], reverse=True)\n",
    "    \n",
    "    scores_scdv = scores_scdv[:3]\n",
    "    scores_baseline = scores_baseline[:3]\n",
    "    \n",
    "    for score in scores_scdv:\n",
    "        print(f\"Similarity: {score[0]}\\n\\nDocument: {documents[score[-1]]}\\n\\n\")\n",
    "        \n",
    "    print(\"-------------------------------------------------------------------\")\n",
    "    \n",
    "    for score in scores_baseline:\n",
    "        print(f\"Similarity: {score[0]}\\n\\nDocument: {documents[score[-1]]}\\n\\n\")"
   ]
  },
  {
   "cell_type": "code",
   "execution_count": 60,
   "id": "fc7ffb96",
   "metadata": {
    "scrolled": false
   },
   "outputs": [
    {
     "data": {
      "application/vnd.jupyter.widget-view+json": {
       "model_id": "6dbcb2a744d6405fafb44b6101a460ec",
       "version_major": 2,
       "version_minor": 0
      },
      "text/plain": [
       "  0%|          | 0/2225 [00:00<?, ?it/s]"
      ]
     },
     "metadata": {},
     "output_type": "display_data"
    },
    {
     "name": "stdout",
     "output_type": "stream",
     "text": [
      "Similarity: 0.21844045115827107\n",
      "\n",
      "Document: Absa and Barclays talks continue\n",
      "\n",
      "South Africa biggest retail bank Absa has said it is still in talks with UK bank Barclays over the sale of majority stake in the group.\n",
      "\n",
      "In November, Absa said it was close to striking a deal with Barclays. But the group said Barclays is still waiting for the approval of South Africa's banking and competition authorities to make a formal offer. Absa also announced that it expects to see earnings grow by 20-25% in its current financial year.\n",
      "\n",
      "\"Discussions with Barclays are continuing, but shareholders are advised that no agreement has been reached as to any offer being made by Barclays to acquire a majority stake in Absa,\" Absa said in a statement. If Barclays buys a stake in Absa it will be one of the largest foreign investments in South Africa in recent years. Absa currently has a market value of about $8.5bn (£4.4bn). Analysts said Absa's earnings forecast was better than expected. However, the company warned that headline earnings growth would be trimmed by about four percentage points because of share options for a black economic empowerment transaction and a staff share incentive scheme. The South African group will release its results for the year to 31 March on 30 May.\n",
      "\n",
      "\n",
      "Similarity: 0.21163156444968736\n",
      "\n",
      "Document: Dollar gains on Greenspan speech\n",
      "\n",
      "The dollar has hit its highest level against the euro in almost three months after the Federal Reserve head said the US trade deficit is set to stabilise.\n",
      "\n",
      "And Alan Greenspan highlighted the US government's willingness to curb spending and rising household savings as factors which may help to reduce it. In late trading in New York, the dollar reached $1.2871 against the euro, from $1.2974 on Thursday. Market concerns about the deficit has hit the greenback in recent months. On Friday, Federal Reserve chairman Mr Greenspan's speech in London ahead of the meeting of G7 finance ministers sent the dollar higher after it had earlier tumbled on the back of worse-than-expected US jobs data. \"I think the chairman's taking a much more sanguine view on the current account deficit than he's taken for some time,\" said Robert Sinche, head of currency strategy at Bank of America in New York. \"He's taking a longer-term view, laying out a set of conditions under which the current account deficit can improve this year and next.\"\n",
      "\n",
      "Worries about the deficit concerns about China do, however, remain. China's currency remains pegged to the dollar and the US currency's sharp falls in recent months have therefore made Chinese export prices highly competitive. But calls for a shift in Beijing's policy have fallen on deaf ears, despite recent comments in a major Chinese newspaper that the \"time is ripe\" for a loosening of the peg. The G7 meeting is thought unlikely to produce any meaningful movement in Chinese policy. In the meantime, the US Federal Reserve's decision on 2 February to boost interest rates by a quarter of a point - the sixth such move in as many months - has opened up a differential with European rates. The half-point window, some believe, could be enough to keep US assets looking more attractive, and could help prop up the dollar. The recent falls have partly been the result of big budget deficits, as well as the US's yawning current account gap, both of which need to be funded by the buying of US bonds and assets by foreign firms and governments. The White House will announce its budget on Monday, and many commentators believe the deficit will remain at close to half a trillion dollars.\n",
      "\n",
      "\n",
      "Similarity: 0.18801246266348323\n",
      "\n",
      "Document: MG Rover China tie-up 'delayed'\n",
      "\n",
      "MG Rover's proposed tie-up with China's top carmaker has been delayed due to concerns by Chinese regulators, according to the Financial Times.\n",
      "\n",
      "The paper said Chinese officials had been irritated by Rover's disclosure of its talks with Shanghai Automotive Industry Corp in October. The proposed deal was seen as crucial to safeguarding the future of Rover's Longbridge plant in the West Midlands. However, there are growing fears that the deal could result in job losses. The Observer reported on Sunday that nearly half the workforce at Longbridge could be under threat if the deal goes ahead.\n",
      "\n",
      "Shanghai Automotive's proposed £1bn investment in Rover is awaiting approval by its owner, the Shanghai city government and by the National Development and Reform Commission, which oversees foreign investment by Chinese firms. According to the FT, the regulator has been annoyed by Rover's decision to talk publicly about the deal and the intense speculation which has ensued about what it will mean for Rover's future. As a result, hopes that approval of the deal may be fast-tracked have disappeared, the paper said. There has been continued speculation about the viability of Rover's Longbridge plant because of falling sales and unfashionable models.\n",
      "\n",
      "According to the Observer, 3,000 jobs - out of a total workforce of 6,500 - could be lost if the deal goes ahead. The paper said that Chinese officials believe cutbacks will be required to keep the MG Rover's costs in line with revenues. It also said that the production of new models through the joint venture would take at least eighteen months. Neither Rover nor Shanghai Automotive commented on the reports.\n",
      "\n",
      "\n",
      "-------------------------------------------------------------------\n",
      "Similarity: 0.28980109095573425\n",
      "\n",
      "Document: Latin America sees strong growth\n",
      "\n",
      "Latin America's economy grew by 5.5% in 2004, its best performance since 1980, while exports registered their best performance in two decades.\n",
      "\n",
      "The United Nations' Economic Commission for Latin America and the Caribbean said the region grew by 5.5% this year. The Inter-American Development Bank (IADB) said regional exports reached $445.1bn (£227bn;331bn euros) in 2004. Doubts about the strength of the US recovery and overheating of the Chinese economy do however pose risks for 2005. Both organisations also warned that high oil prices raise the risk of either inflation or recession.\n",
      "\n",
      "Nevertheless, the Economic Commission for Latin America and the Caribbean (ECLAC) still forecasts growth of 4% for 2005. Strong recovery in some countries, such as Venezuela and Uruguay, boosted the overall performance of the region. ECLAC also said that the six largest Latin American economies (Argentina, Brazil, Chile, Colombia, Mexico and Venezuela) grew by more than 3% for only the second time in 20 years. Chinese and US economic strength helped boost exports, as did strong demand for agricultural and mining products. In fact, Latin American exports to China grew 34%, to $14bn. Higher oil prices also helped boost exports, as Mexico and Venezuela are important oil exporters. Regional blocs as well as free trade agreements with the US contributed to the region's strong performance, the IADB said.\n",
      "\n",
      "\n",
      "Similarity: 0.2805331349372864\n",
      "\n",
      "Document: Diageo to buy US wine firm\n",
      "\n",
      "Diageo, the world's biggest spirits company, has agreed to buy Californian wine company Chalone for $260m (£134m) in an all-cash deal.\n",
      "\n",
      "Although Diageo's best-known brands include Smirnoff vodka and Guinness stout, it already has a US winemaking arm - Diageo Chateau & Estate Wines. Diageo said it expects to get US regulatory approval for the deal during the first quarter of 2005. It said Chalone would be integrated into its existing US wine business.\n",
      "\n",
      "\"The US wine market represents a growth opportunity for Diageo, with favourable demographic and consumption trends,\" said Diageo North America president Ivan Menezes. In July, Diageo, which is listed on the London Stock Exchange, reported an annual turnover of £8.89bn, down from £9.28bn a year earlier. It blamed a weaker dollar for its lower turnover. In the year ending 31 December 2003, Chalone reported revenues of $69.4m.\n",
      "\n",
      "\n",
      "Similarity: 0.2791137397289276\n",
      "\n",
      "Document: Mexican in US send $16bn home\n",
      "\n",
      "Mexican labourers living in the US sent a record $16.6bn (£8.82bn) home last year.\n",
      "\n",
      "The Bank of Mexico said that remittances grew 24% last year and now represent the country's second-biggest source of income after oil. Better records and greater prosperity of Mexican expatriates in the US are the main reasons behind the increase. About 10 million Mexicans live in the US, where there are 16 million citizens of Mexican origin. Remittances now represent more than 2% of the country's GDP, according to the Bank of Mexico's figures. Last year, there were 50.9 million transactions, with an average value of $327 per remittance, the bank said. According to Standard & Poor's, which has recently upgraded Mexico's sovereign debt rating, the rise in remittances helps protect the Mexican economy against a potential fall in the international oil prices.\n",
      "\n",
      "The growth in remittances has sparked fierce competition between banks. Bank of America announced last week that it planned to eliminate transfer fees for some customers. Remittance charges are estimated to have dropped by between 50 and 60%, reports from the US Treasury and the Inter-American Development Bank have said. The Inter-American Development Bank estimates that remittances to Latin America and the Caribbean reached $45bn in 2004.\n",
      "\n",
      "\n"
     ]
    }
   ],
   "source": [
    "get_query_results(\"America\")"
   ]
  },
  {
   "cell_type": "code",
   "execution_count": null,
   "id": "bd6ac321",
   "metadata": {},
   "outputs": [],
   "source": []
  }
 ],
 "metadata": {
  "kernelspec": {
   "display_name": "Python 3 (ipykernel)",
   "language": "python",
   "name": "python3"
  },
  "language_info": {
   "codemirror_mode": {
    "name": "ipython",
    "version": 3
   },
   "file_extension": ".py",
   "mimetype": "text/x-python",
   "name": "python",
   "nbconvert_exporter": "python",
   "pygments_lexer": "ipython3",
   "version": "3.9.11"
  }
 },
 "nbformat": 4,
 "nbformat_minor": 5
}
